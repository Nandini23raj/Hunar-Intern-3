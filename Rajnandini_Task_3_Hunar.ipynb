{
  "nbformat": 4,
  "nbformat_minor": 0,
  "metadata": {
    "colab": {
      "provenance": []
    },
    "kernelspec": {
      "name": "python3",
      "display_name": "Python 3"
    },
    "language_info": {
      "name": "python"
    }
  },
  "cells": [
    {
      "cell_type": "code",
      "execution_count": 1,
      "metadata": {
        "colab": {
          "base_uri": "https://localhost:8080/"
        },
        "id": "LBK-CHpYzTqQ",
        "outputId": "b79ee77c-4d59-4846-87bd-fdbfbabdbbee"
      },
      "outputs": [
        {
          "output_type": "stream",
          "name": "stdout",
          "text": [
            "dataset.csv created successfully!\n"
          ]
        }
      ],
      "source": [
        "import pandas as pd\n",
        "\n",
        "data = {\n",
        "    \"URL\": [\"http://example.com\", \"http://test.com/login\"],\n",
        "    \"Payloads\": [\n",
        "        \"' OR '1'='1;<script>alert(1)</script>;../../etc/passwd\",\n",
        "        \"' UNION SELECT * FROM users--;../../etc/passwd\"\n",
        "    ]\n",
        "}\n",
        "\n",
        "df = pd.DataFrame(data)\n",
        "df.to_csv(\"dataset.csv\", index=False)\n",
        "print(\"dataset.csv created successfully!\")"
      ]
    },
    {
      "cell_type": "code",
      "source": [
        "# Step 1: Import necessary libraries\n",
        "import requests\n",
        "import pandas as pd\n",
        "from urllib.parse import urljoin\n",
        "\n",
        "# Step 2: Load dataset containing URLs and payloads\n",
        "def load_dataset(file_path):\n",
        "    \"\"\"\n",
        "    Load dataset containing URLs and test payloads.\n",
        "    \"\"\"\n",
        "    return pd.read_csv(file_path)\n",
        "\n",
        "# Step 3: Check for SQL Injection vulnerability\n",
        "def check_sql_injection(url, payloads):\n",
        "    \"\"\"\n",
        "    Test for SQL Injection vulnerabilities by sending payloads.\n",
        "    \"\"\"\n",
        "    print(f\"Testing SQL Injection on {url}\")\n",
        "    for payload in payloads:\n",
        "        try:\n",
        "            response = requests.get(urljoin(url, payload))\n",
        "            if \"SQL syntax\" in response.text or \"database\" in response.text:\n",
        "                print(f\"[!] SQL Injection vulnerability found with payload: {payload}\")\n",
        "                return\n",
        "        except requests.RequestException as e:\n",
        "            print(f\"Error testing SQL Injection: {e}\")\n",
        "    print(\"[+] No SQL Injection vulnerability found.\")\n",
        "\n",
        "# Step 4: Check for XSS vulnerability\n",
        "def check_xss(url, payloads):\n",
        "    \"\"\"\n",
        "    Test for Cross-Site Scripting (XSS) vulnerabilities by injecting payloads.\n",
        "    \"\"\"\n",
        "    print(f\"Testing XSS on {url}\")\n",
        "    for payload in payloads:\n",
        "        try:\n",
        "            response = requests.get(urljoin(url, payload))\n",
        "            if payload in response.text:\n",
        "                print(f\"[!] XSS vulnerability found with payload: {payload}\")\n",
        "                return\n",
        "        except requests.RequestException as e:\n",
        "            print(f\"Error testing XSS: {e}\")\n",
        "    print(\"[+] No XSS vulnerability found.\")\n",
        "\n",
        "# Step 5: Check for security headers\n",
        "def check_security_headers(url):\n",
        "    \"\"\"\n",
        "    Check HTTP headers for security best practices.\n",
        "    \"\"\"\n",
        "    print(f\"Checking security headers on {url}\")\n",
        "    try:\n",
        "        response = requests.get(url)\n",
        "        headers = response.headers\n",
        "        if \"X-Content-Type-Options\" not in headers:\n",
        "            print(\"[!] Missing X-Content-Type-Options header.\")\n",
        "        if \"Content-Security-Policy\" not in headers:\n",
        "            print(\"[!] Missing Content-Security-Policy header.\")\n",
        "        if \"X-Frame-Options\" not in headers:\n",
        "            print(\"[!] Missing X-Frame-Options header.\")\n",
        "        if \"Strict-Transport-Security\" not in headers:\n",
        "            print(\"[!] Missing Strict-Transport-Security header.\")\n",
        "        print(\"[+] Security header check completed.\")\n",
        "    except requests.RequestException as e:\n",
        "        print(f\"Error checking security headers: {e}\")\n",
        "\n",
        "# Step 6: Main function for assessment\n",
        "def perform_security_assessment(file_path):\n",
        "    \"\"\"\n",
        "    Perform security assessment for the given dataset.\n",
        "    \"\"\"\n",
        "    # Load dataset\n",
        "    data = load_dataset(file_path)\n",
        "\n",
        "    for index, row in data.iterrows():\n",
        "        url = row['URL']\n",
        "        payloads = row['Payloads'].split(';')  # Payloads are semicolon-separated\n",
        "\n",
        "        print(f\"\\n[Testing URL: {url}]\")\n",
        "        check_sql_injection(url, payloads)\n",
        "        check_xss(url, payloads)\n",
        "        check_security_headers(url)\n",
        "\n",
        "# Specify the dataset path\n",
        "dataset_path = \"dataset.csv\"  # Replace with your dataset file\n",
        "\n",
        "# Perform the assessment\n",
        "perform_security_assessment(dataset_path)"
      ],
      "metadata": {
        "colab": {
          "base_uri": "https://localhost:8080/"
        },
        "id": "-FICVvBxzai6",
        "outputId": "2e246e13-f676-4e01-c2b8-a303f1085392"
      },
      "execution_count": null,
      "outputs": [
        {
          "output_type": "stream",
          "name": "stdout",
          "text": [
            "\n",
            "[Testing URL: http://example.com]\n",
            "Testing SQL Injection on http://example.com\n",
            "[+] No SQL Injection vulnerability found.\n",
            "Testing XSS on http://example.com\n",
            "[+] No XSS vulnerability found.\n",
            "Checking security headers on http://example.com\n",
            "[!] Missing X-Content-Type-Options header.\n",
            "[!] Missing Content-Security-Policy header.\n",
            "[!] Missing X-Frame-Options header.\n",
            "[!] Missing Strict-Transport-Security header.\n",
            "[+] Security header check completed.\n",
            "\n",
            "[Testing URL: http://test.com/login]\n",
            "Testing SQL Injection on http://test.com/login\n"
          ]
        }
      ]
    }
  ]
}